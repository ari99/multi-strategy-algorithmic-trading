{
 "cells": [
  {
   "cell_type": "code",
   "execution_count": 1,
   "metadata": {
    "collapsed": true,
    "trusted": false
   },
   "outputs": [],
   "source": [
    "import pandas as pd\n",
    "import tabulate\n",
    "from IPython.display import HTML, display\n",
    "import json\n",
    "from QuantConnect.Packets import *\n",
    "from QuantConnect.Research import QuantBook\n",
    "\n",
    "%load_ext autoreload\n",
    "%autoreload 2\n",
    "from processBt.backtestResearchUtils import *\n",
    "\n"
   ]
  },
  {
   "cell_type": "code",
   "execution_count": 2,
   "outputs": [],
   "source": [
    "\n",
    "btRes = BTResults(\"backtests/2022-10-31_19-36-26/1222378425.json\")\n",
    "btData = btRes.btData\n"
   ],
   "metadata": {
    "collapsed": false,
    "trusted": false
   }
  },
  {
   "cell_type": "code",
   "execution_count": null,
   "outputs": [],
   "source": [
    "#qb: QuantBook = QuantBook()"
   ],
   "metadata": {
    "collapsed": false,
    "trusted": false
   }
  },
  {
   "cell_type": "code",
   "execution_count": null,
   "outputs": [],
   "source": [
    "\n",
    "displayTable(btData['Orders'])"
   ],
   "metadata": {
    "collapsed": false,
    "trusted": false
   }
  },
  {
   "cell_type": "code",
   "execution_count": null,
   "outputs": [],
   "source": [
    "displayScalar(btData['Statistics'])"
   ],
   "metadata": {
    "collapsed": false,
    "trusted": false
   }
  },
  {
   "cell_type": "code",
   "execution_count": null,
   "outputs": [],
   "source": [
    "displayScalar(btData['TotalPerformance']['TradeStatistics'])"
   ],
   "metadata": {
    "collapsed": false,
    "trusted": false
   }
  },
  {
   "cell_type": "code",
   "execution_count": null,
   "outputs": [],
   "source": [
    "displayAssetSalesVolumes(btData)"
   ],
   "metadata": {
    "collapsed": false,
    "trusted": false
   }
  },
  {
   "cell_type": "code",
   "execution_count": null,
   "outputs": [],
   "source": [
    "displayAll(btData)"
   ],
   "metadata": {
    "collapsed": false,
    "trusted": false
   }
  },
  {
   "cell_type": "code",
   "execution_count": 90,
   "outputs": [],
   "source": [
    "tradeStats = btRes.createRollingTradeStats()\n",
    "#displayStats(tradeStats)"
   ],
   "metadata": {
    "collapsed": false,
    "trusted": false
   }
  },
  {
   "cell_type": "code",
   "execution_count": 92,
   "outputs": [],
   "source": [
    "portStats = btRes.createRollingPortfolioStats()\n",
    "#displayStats(portStats)"
   ],
   "metadata": {
    "collapsed": false,
    "trusted": false
   }
  },
  {
   "cell_type": "code",
   "execution_count": null,
   "outputs": [],
   "source": [],
   "metadata": {
    "collapsed": false,
    "trusted": false
   }
  }
 ],
 "metadata": {
  "kernelspec": {
   "display_name": "Python 3",
   "language": "python",
   "name": "python3"
  },
  "language_info": {
   "codemirror_mode": {
    "name": "ipython",
    "version": 2
   },
   "file_extension": ".py",
   "mimetype": "text/x-python",
   "name": "python",
   "nbconvert_exporter": "python",
   "pygments_lexer": "ipython2",
   "version": "2.7.6"
  }
 },
 "nbformat": 4,
 "nbformat_minor": 0
}
