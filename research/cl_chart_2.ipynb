{
 "cells": [
  {
   "cell_type": "code",
   "execution_count": null,
   "metadata": {
    "collapsed": true,
    "jupyter": {
     "outputs_hidden": true
    },
    "trusted": false
   },
   "outputs": [],
   "source": [
    "import json\n",
    "from QuantConnect.Research import QuantBook\n",
    "import tabulate\n",
    "from IPython.display import HTML, display\n",
    "from QuantConnect.Packets import BacktestResult\n",
    "import pandas as pd\n",
    "from QuantConnect import Chart\n",
    "%load_ext autoreload\n",
    "%autoreload 2\n",
    "from processBt.backtestResearchUtils import *\n",
    "from IPython.display import display, Markdown, Latex\n",
    "\n",
    "# charts results https://www.quantconnect.com/docs/v2/our-platform/backtesting/results\n",
    "\n",
    "qb = QuantBook()\n",
    "\n",
    "btRes = BTResults(\"backtests/2022-10-31_19-36-26/1222378425.json\")\n",
    "btData = btRes.btData\n"
   ]
  },
  {
   "cell_type": "markdown",
   "source": [],
   "metadata": {
    "collapsed": false
   }
  },
  {
   "cell_type": "code",
   "execution_count": null,
   "metadata": {
    "collapsed": false,
    "jupyter": {
     "outputs_hidden": false
    },
    "trusted": false
   },
   "outputs": [],
   "source": [
    "\n",
    "symbols = btRes.createOrdersSymbols()\n",
    "\n"
   ]
  },
  {
   "cell_type": "code",
   "execution_count": null,
   "metadata": {
    "collapsed": false,
    "jupyter": {
     "outputs_hidden": false
    },
    "pycharm": {
     "is_executing": true
    },
    "trusted": false
   },
   "outputs": [],
   "source": [
    "from processBt.equityChart import EquityChart\n",
    "from datetime import timedelta, datetime\n",
    "from IPython.display import display, Markdown, Latex\n",
    "from QuantConnect import Resolution\n",
    "\n",
    "\n",
    "equityChart = EquityChart()\n",
    "\n",
    "for symbol in symbols:\n",
    "    symbolAdded = qb.AddEquity(symbol).Symbol\n",
    "    #display(Markdown('# daadsfgadsg $\\symbol$'))\n",
    "    history = equityChart.createHistory(qb, symbolAdded)\n",
    "    history = equityChart.addIndicators(history)\n",
    "    equityChart.displayEquityChart(symbol, history)\n",
    "\n"
   ]
  },
  {
   "cell_type": "markdown",
   "metadata": {
    "collapsed": false,
    "jupyter": {
     "outputs_hidden": false
    }
   },
   "source": []
  }
 ],
 "metadata": {
  "kernelspec": {
   "display_name": "Foundation-Py-Default",
   "language": "python",
   "name": "python3"
  },
  "language_info": {
   "codemirror_mode": {
    "name": "ipython",
    "version": 3
   },
   "file_extension": ".py",
   "mimetype": "text/x-python",
   "name": "python",
   "nbconvert_exporter": "python",
   "pygments_lexer": "ipython3",
   "version": "3.8.13"
  },
  "toc-autonumbering": false,
  "toc-showcode": false,
  "toc-showmarkdowntxt": false,
  "toc-showtags": false
 },
 "nbformat": 4,
 "nbformat_minor": 4
}
