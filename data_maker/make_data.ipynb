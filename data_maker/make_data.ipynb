{
 "cells": [
  {
   "cell_type": "code",
   "execution_count": null,
   "metadata": {
    "collapsed": true,
    "trusted": false
   },
   "outputs": [],
   "source": [
    "import pandas as pd\n",
    "import tabulate\n",
    "from IPython.display import HTML, display\n",
    "import json\n",
    "from QuantConnect.Packets import *\n",
    "from QuantConnect.Research import QuantBook\n",
    "%load_ext autoreload\n",
    "%autoreload 2\n",
    "\n",
    "# Using QuantConnect history, creates data for stock charting using HighCharts and the backtest visualizer project\n",
    "\n",
    "qb: QuantBook = QuantBook()"
   ]
  },
  {
   "cell_type": "code",
   "execution_count": 2,
   "outputs": [
    {
     "ename": "FileNotFoundError",
     "evalue": "[Errno 2] No such file or directory: 'backtests/2022-12-08_20-12-48/1349525167.json'",
     "output_type": "error",
     "traceback": [
      "\u001B[0;31m---------------------------------------------------------------------------\u001B[0m",
      "\u001B[0;31mFileNotFoundError\u001B[0m                         Traceback (most recent call last)",
      "Cell \u001B[0;32mIn [2], line 3\u001B[0m\n\u001B[1;32m      1\u001B[0m \u001B[38;5;28;01mfrom\u001B[39;00m \u001B[38;5;21;01mprosBt\u001B[39;00m\u001B[38;5;21;01m.\u001B[39;00m\u001B[38;5;21;01mbacktestResearchUtils\u001B[39;00m \u001B[38;5;28;01mimport\u001B[39;00m BTResults\n\u001B[0;32m----> 3\u001B[0m btRes \u001B[38;5;241m=\u001B[39m \u001B[43mBTResults\u001B[49m\u001B[43m(\u001B[49m\u001B[38;5;124;43m\"\u001B[39;49m\u001B[38;5;124;43mbacktests/2022-12-08_20-12-48/1349525167.json\u001B[39;49m\u001B[38;5;124;43m\"\u001B[39;49m\u001B[43m)\u001B[49m\n\u001B[1;32m      4\u001B[0m btData \u001B[38;5;241m=\u001B[39m btRes\u001B[38;5;241m.\u001B[39mbtData\n\u001B[1;32m      5\u001B[0m symbols \u001B[38;5;241m=\u001B[39m btRes\u001B[38;5;241m.\u001B[39mcreateOrdersSymbols()\n",
      "File \u001B[0;32m/Lean/Launcher/bin/Debug/Notebooks/prosBt/backtestResearchUtils.py:17\u001B[0m, in \u001B[0;36mBTResults.__init__\u001B[0;34m(self, path)\u001B[0m\n\u001B[1;32m     16\u001B[0m \u001B[38;5;28;01mdef\u001B[39;00m \u001B[38;5;21m__init__\u001B[39m(\u001B[38;5;28mself\u001B[39m, path):\n\u001B[0;32m---> 17\u001B[0m     \u001B[38;5;28mself\u001B[39m\u001B[38;5;241m.\u001B[39mbtData \u001B[38;5;241m=\u001B[39m \u001B[38;5;28;43mself\u001B[39;49m\u001B[38;5;241;43m.\u001B[39;49m\u001B[43mloadData\u001B[49m\u001B[43m(\u001B[49m\u001B[43mpath\u001B[49m\u001B[43m)\u001B[49m\n\u001B[1;32m     18\u001B[0m     \u001B[38;5;28mself\u001B[39m\u001B[38;5;241m.\u001B[39mordersDf \u001B[38;5;241m=\u001B[39m \u001B[38;5;28mself\u001B[39m\u001B[38;5;241m.\u001B[39mcreateOrdersDF()\n",
      "File \u001B[0;32m/Lean/Launcher/bin/Debug/Notebooks/prosBt/backtestResearchUtils.py:22\u001B[0m, in \u001B[0;36mBTResults.loadData\u001B[0;34m(self, path)\u001B[0m\n\u001B[1;32m     20\u001B[0m \u001B[38;5;28;01mdef\u001B[39;00m \u001B[38;5;21mloadData\u001B[39m(\u001B[38;5;28mself\u001B[39m, path):\n\u001B[1;32m     21\u001B[0m     data: BacktestResult \u001B[38;5;241m=\u001B[39m \u001B[38;5;28;01mNone\u001B[39;00m\n\u001B[0;32m---> 22\u001B[0m     \u001B[38;5;28;01mwith\u001B[39;00m \u001B[38;5;28;43mopen\u001B[39;49m\u001B[43m(\u001B[49m\u001B[43mpath\u001B[49m\u001B[43m)\u001B[49m \u001B[38;5;28;01mas\u001B[39;00m file:\n\u001B[1;32m     23\u001B[0m         data \u001B[38;5;241m=\u001B[39m json\u001B[38;5;241m.\u001B[39mload(file)\n\u001B[1;32m     24\u001B[0m         \u001B[38;5;28;01mreturn\u001B[39;00m data\n",
      "\u001B[0;31mFileNotFoundError\u001B[0m: [Errno 2] No such file or directory: 'backtests/2022-12-08_20-12-48/1349525167.json'"
     ]
    }
   ],
   "source": [
    "from processBt.backtestResearchUtils import BTResults\n",
    "\n",
    "btRes = BTResults(\"backtests/2022-12-08_20-12-48/1349525167.json\")\n",
    "btData = btRes.btData\n",
    "symbols = btRes.createOrdersSymbols()\n",
    "%load_ext autoreload\n",
    "%autoreload 2\n"
   ],
   "metadata": {
    "collapsed": false
   }
  },
  {
   "cell_type": "code",
   "execution_count": 3,
   "outputs": [
    {
     "name": "stdout",
     "output_type": "stream",
     "text": [
      "SPY\n",
      "  creating history SPY\n",
      "20230123 01:35:12.518 TRACE:: Config.GetValue(): data-feed-workers-count - Using default value: 6\n",
      "20230123 01:35:12.523 TRACE:: Config.GetValue(): data-feed-max-work-weight - Using default value: 400\n",
      "20230123 01:35:12.525 TRACE:: WeightedWorkScheduler(): will use 6 workers and MaxWorkWeight is 400\n",
      "  done history SPY\n"
     ]
    }
   ],
   "source": [
    "from processBt.equityChart import EquityChart\n",
    "from pathlib import Path\n",
    "\n",
    "equityChart = EquityChart()\n",
    "\n",
    "from QuantConnect import Symbol, SecurityType, Market\n",
    "symbols=[Symbol.Create(\"SPY\", SecurityType.Equity, Market.USA)]\n",
    "for symbol in symbols:\n",
    "    print(symbol.Value)\n",
    "    symbolAdded = qb.AddEquity(symbol).Symbol\n",
    "    print(\"  creating history \" + symbol.Value)\n",
    "    history = equityChart.createHistory(qb, symbolAdded)\n",
    "    print(\"  done history \" + symbol.Value)\n",
    "\n",
    "    #history = equityChart.addIndicators(history)\n",
    "    history['symbol'] = symbolAdded.Value\n",
    "    history.reset_index(inplace=True, drop=True)\n",
    "    history.index.name = \"index\""
   ],
   "metadata": {
    "collapsed": false
   }
  },
  {
   "cell_type": "code",
   "execution_count": 5,
   "outputs": [
    {
     "name": "stdout",
     "output_type": "stream",
     "text": [
      "writing history_output_highchart/SPY.csv\n"
     ]
    }
   ],
   "source": [
    "def writeHistoryForHighCharts(symbols):\n",
    "    equityChart = EquityChart()\n",
    "\n",
    "    for symbol in symbols:\n",
    "        symbolAdded = qb.AddEquity(symbol).Symbol\n",
    "        history = equityChart.createHistory(qb, symbolAdded)\n",
    "        history['symbol'] = symbolAdded.Value\n",
    "        history.reset_index(inplace=True, drop=True)\n",
    "        history.index.name = \"index\"\n",
    "        history['time'] = history['time'].apply(lambda x: int((x.value / 10**6)))\n",
    "        filepath = Path('history_output_highchart/'+ symbolAdded.Value + '.csv')\n",
    "        print(\"writing \" + str(filepath))\n",
    "        filepath.parent.mkdir(parents=True, exist_ok=True)\n",
    "        #This will write to history_output_highchart\n",
    "        history.to_csv(filepath)\n",
    "        #display(HTML(history.to_html()))\n",
    "\n",
    "\n",
    "writeHistoryForHighCharts(symbols)"
   ],
   "metadata": {
    "collapsed": false
   }
  },
  {
   "cell_type": "code",
   "execution_count": null,
   "outputs": [],
   "source": [],
   "metadata": {
    "collapsed": false
   }
  }
 ],
 "metadata": {
  "kernelspec": {
   "display_name": "Python 3",
   "language": "python",
   "name": "python3"
  },
  "language_info": {
   "codemirror_mode": {
    "name": "ipython",
    "version": 2
   },
   "file_extension": ".py",
   "mimetype": "text/x-python",
   "name": "python",
   "nbconvert_exporter": "python",
   "pygments_lexer": "ipython2",
   "version": "2.7.6"
  }
 },
 "nbformat": 4,
 "nbformat_minor": 0
}
